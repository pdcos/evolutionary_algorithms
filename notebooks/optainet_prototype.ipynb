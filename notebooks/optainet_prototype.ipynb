{
 "cells": [
  {
   "cell_type": "code",
   "execution_count": 1,
   "metadata": {},
   "outputs": [],
   "source": [
    "import numpy as np\n",
    "import random\n",
    "from mpl_toolkits import mplot3d\n",
    "import numpy as np\n",
    "import matplotlib.pyplot as plt\n",
    "import torch\n",
    "from tqdm import tqdm\n",
    "import time"
   ]
  },
  {
   "cell_type": "code",
   "execution_count": 2,
   "metadata": {},
   "outputs": [],
   "source": [
    "def schaffer_function(mat_x_y):\n",
    "    x = mat_x_y[:, 0]\n",
    "    y = mat_x_y[:, 1]\n",
    "    g = 0.5 + (np.power((np.sin( np.sqrt( np.power(x, 2) + np.power(y, 2)))), 2) - 0.5)/ \\\n",
    "        (1 + 0.001 * (np.power(x, 2) + np.power(y, 2)))\n",
    "    return g"
   ]
  },
  {
   "cell_type": "code",
   "execution_count": 70,
   "metadata": {},
   "outputs": [
    {
     "name": "stdout",
     "output_type": "stream",
     "text": [
      "0.5577693851567576\n"
     ]
    }
   ],
   "source": [
    "class OptAiNet():\n",
    "    def __init__(self,\n",
    "                 num_epochs:int,\n",
    "                 pop_size:int,\n",
    "                 Nc:int,\n",
    "                 chrom_length:int,\n",
    "                 value_ranges:list,\n",
    "                 fitness_func, # Function Type,\n",
    "                 beta=100,\n",
    "                 clone_threshold = 0.01,\n",
    "                 seed=42,\n",
    "                 eval_every=100,\n",
    "                 verbose = 0,\n",
    "                ):\n",
    "        \n",
    "        self.num_epochs = num_epochs\n",
    "        self.pop_size = pop_size\n",
    "        self.value_ranges = np.array(value_ranges)\n",
    "        self.fitness_func = fitness_func\n",
    "        self.chrom_length = chrom_length\n",
    "        self.Nc = Nc\n",
    "        self.beta = beta\n",
    "        self.clone_threshold = clone_threshold\n",
    "\n",
    "        self.f_avg_clone_mutated_previous = 0\n",
    "        self.continue_clone = True\n",
    "\n",
    "        self.seed = seed    \n",
    "        self.best_ind_list = np.zeros(self.num_epochs)\n",
    "        self.avg_ind_list = np.zeros(self.num_epochs)\n",
    "        self.eval_every = eval_every\n",
    "        self.verbose = verbose\n",
    "        np.random.seed(seed=seed)\n",
    "\n",
    "        self.init_pop()\n",
    "        self.clone()\n",
    "        self.mutation()\n",
    "        self.evaluation()\n",
    "    \n",
    "    def init_pop(self):\n",
    "        self.pop = np.random.rand(self.pop_size, self.chrom_length)\n",
    "        min_mat = self.value_ranges.T[0, :]\n",
    "        max_mat = self.value_ranges.T[1,:]\n",
    "        self.pop = self.pop * (max_mat - min_mat) + min_mat\n",
    "        self.f_pop = self.fitness_func(self.pop)\n",
    "        self.f_pop_clone = self.f_pop.copy()\n",
    "        self.pop_clone = self.pop.copy()\n",
    "        #print(self.f_pop)\n",
    "    \n",
    "    def clone(self):\n",
    "        self.pop_clone = np.repeat(self.pop_clone, repeats=self.Nc, axis=0)\n",
    "        #self.pop_clone = self.pop_clone.reshape((1, self.Nc, -1, self.chrom_length))\n",
    "        #self.formatted_pop_clone = self.pop_clone.reshape((-1, self.chrom_length))\n",
    "        self.f_pop_clone = self.fitness_func(self.pop_clone)\n",
    "        f_max = self.f_pop_clone.max()\n",
    "        f_min = self.f_pop_clone.min()\n",
    "        self.f_pop_clone_norm = (self.f_pop_clone - f_min)/ (f_max - f_min)\n",
    "\n",
    "    def mutation(self):\n",
    "        self.alpha = (1/self.beta) * np.exp(self.f_pop_clone_norm)\n",
    "        self.alpha = np.repeat(self.alpha, self.chrom_length)\n",
    "        self.random_mutation = np.random.normal(0, 1, size=self.pop_clone.shape[0] * self.pop_clone.shape[1])\n",
    "        self.random_mutation = self.random_mutation.reshape(self.pop_clone.shape[0], self.pop_clone.shape[1])\n",
    "        self.alpha = self.alpha.reshape(self.random_mutation.shape)\n",
    "        self.pop_clone_mutated = self.pop_clone + self.alpha * self.random_mutation\n",
    "        self.f_pop_clone_mutated = self.fitness_func(self.pop_clone_mutated)\n",
    "    \n",
    "    def evaluation(self):\n",
    "        self.f_avg_clone_mutated = self.f_pop_clone_mutated.mean()\n",
    "        if np.abs(self.f_avg_clone_mutated - self.f_avg_clone_mutated) < self.clone_threshold\n",
    "            self.continue_clone = False\n",
    "        else:\n",
    "            self.continue_clone = True\n",
    "        self.f_avg_clone_mutated_previous = self.f_avg_clone_mutated\n",
    "        \n",
    "\n",
    "opt_ai_net = OptAiNet( \n",
    "                num_epochs=100,\n",
    "                pop_size=5,\n",
    "                Nc=5,\n",
    "                chrom_length=2,\n",
    "                value_ranges=[(-10,10), (-10,10)],\n",
    "                fitness_func=schaffer_function\n",
    "            )"
   ]
  }
 ],
 "metadata": {
  "kernelspec": {
   "display_name": "deeplearning",
   "language": "python",
   "name": "python3"
  },
  "language_info": {
   "codemirror_mode": {
    "name": "ipython",
    "version": 3
   },
   "file_extension": ".py",
   "mimetype": "text/x-python",
   "name": "python",
   "nbconvert_exporter": "python",
   "pygments_lexer": "ipython3",
   "version": "3.9.13"
  },
  "orig_nbformat": 4
 },
 "nbformat": 4,
 "nbformat_minor": 2
}
