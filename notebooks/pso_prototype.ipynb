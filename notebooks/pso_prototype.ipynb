{
 "cells": [
  {
   "cell_type": "code",
   "execution_count": 2,
   "metadata": {},
   "outputs": [],
   "source": [
    "import numpy as np\n",
    "import random\n",
    "from mpl_toolkits import mplot3d\n",
    "import numpy as np\n",
    "import matplotlib.pyplot as plt\n",
    "import torch\n",
    "from tqdm import tqdm\n",
    "import time"
   ]
  },
  {
   "cell_type": "code",
   "execution_count": 3,
   "metadata": {},
   "outputs": [],
   "source": [
    "def schaffer_function(mat_x_y):\n",
    "    x = mat_x_y[:, 0]\n",
    "    y = mat_x_y[:, 1]\n",
    "    g = 0.5 + (np.power((np.sin( np.sqrt( np.power(x, 2) + np.power(y, 2)))), 2) - 0.5)/ \\\n",
    "        (1 + 0.001 * (np.power(x, 2) + np.power(y, 2)))\n",
    "    return g"
   ]
  },
  {
   "cell_type": "code",
   "execution_count": 4,
   "metadata": {},
   "outputs": [
    {
     "name": "stdout",
     "output_type": "stream",
     "text": [
      "[5 1 2 3 4 5 1 2]\n"
     ]
    },
    {
     "data": {
      "text/plain": [
       "array([[5, 1],\n",
       "       [1, 2],\n",
       "       [2, 3],\n",
       "       [3, 4],\n",
       "       [4, 5]])"
      ]
     },
     "execution_count": 4,
     "metadata": {},
     "output_type": "execute_result"
    }
   ],
   "source": [
    "def neighbors_matrix(arr, n_neighbors):\n",
    "    n = len(arr)\n",
    "    if n < 3:\n",
    "        raise ValueError(\"Array length must be at least 3\")\n",
    "    arr_circular = np.concatenate((arr[n-n_neighbors+1:], arr, arr[:n_neighbors]))\n",
    "    print(arr_circular)\n",
    "    shape = (n, n_neighbors)\n",
    "    strides = arr_circular.strides * 2\n",
    "    return np.lib.stride_tricks.as_strided(arr_circular, shape=shape, strides=strides)\n",
    "arr = np.array([1, 2, 3, 4, 5])\n",
    "matrix = neighbors_matrix(arr, 2)\n",
    "matrix\n"
   ]
  },
  {
   "cell_type": "code",
   "execution_count": 5,
   "metadata": {},
   "outputs": [
    {
     "name": "stderr",
     "output_type": "stream",
     "text": [
      "100%|██████████| 1000/1000 [00:00<00:00, 10006.81it/s]"
     ]
    },
    {
     "name": "stdout",
     "output_type": "stream",
     "text": [
      "--- 0.11162376403808594 seconds ---\n"
     ]
    },
    {
     "name": "stderr",
     "output_type": "stream",
     "text": [
      "\n"
     ]
    },
    {
     "data": {
      "image/png": "[encoded data removed]",
      "text/plain": [
       "<Figure size 432x288 with 1 Axes>"
      ]
     },
     "metadata": {
      "needs_background": "light"
     },
     "output_type": "display_data"
    }
   ],
   "source": [
    "class PSO():\n",
    "    def __init__(self,\n",
    "                 num_epochs:int,\n",
    "                 pop_size:int,\n",
    "                 chrom_length:int,\n",
    "                 n_best:int,\n",
    "                 local_factor:float,\n",
    "                 global_factor:float,\n",
    "                 speed_factor:float,\n",
    "                 v_max: float,\n",
    "                 value_ranges:list,\n",
    "                 fitness_func, # Function Type,\n",
    "                 seed=42,\n",
    "                 eval_every=100,\n",
    "                 verbose = 0,\n",
    "                ):\n",
    "        \n",
    "        self.num_epochs = num_epochs\n",
    "        self.pop_size = pop_size\n",
    "        self.n_best = n_best\n",
    "        self.chrom_length = chrom_length\n",
    "        self.local_factor = local_factor\n",
    "        self.global_factor = global_factor\n",
    "        self.speed_factor = speed_factor\n",
    "        self.v_max = v_max\n",
    "        self.value_ranges = np.array(value_ranges)\n",
    "        self.fitness_func = fitness_func\n",
    "        self.seed = seed    \n",
    "        self.best_ind_list = np.zeros(self.num_epochs)\n",
    "        self.avg_ind_list = np.zeros(self.num_epochs)\n",
    "        self.eval_every = eval_every\n",
    "        self.verbose = verbose\n",
    "        self.f_g_best_alltime = 0\n",
    "        self.l_best_alltime = np.zeros((self.pop_size, self.chrom_length))\n",
    "        self.f_l_best_alltime = np.zeros(self.pop_size)\n",
    "        np.random.seed(seed=seed)\n",
    "\n",
    "\n",
    "        self.init_pop()\n",
    "        self.get_global_best()\n",
    "        #self.get_local_best()\n",
    "        #self.get_local_best_space()\n",
    "        self.get_local_best_ring()\n",
    "        self.update_speed()\n",
    "        self.update_position()\n",
    "\n",
    "    def init_pop(self):\n",
    "        \"\"\"\n",
    "        Initializes a matrix with random values from an uniform distribution\n",
    "        \"\"\"\n",
    "        self.x_i = np.random.rand(self.pop_size, self.chrom_length)\n",
    "        self.v_i = np.random.rand(self.pop_size, self.chrom_length)\n",
    "        self.v_i = self.v_i * (2 * self.v_max) - self.v_max\n",
    "        # Denormalization process\n",
    "        min_mat = self.value_ranges.T[0, :]\n",
    "        max_mat = self.value_ranges.T[1,:]\n",
    "        self.x_i = self.x_i * (max_mat - min_mat) + min_mat\n",
    "        self.f_i = self.fitness_func(self.x_i)\n",
    "        self.f_l_best_alltime = self.f_i.copy()\n",
    "        self.l_best_alltime = self.x_i.copy()\n",
    "        #print(\"##### x_i #####\")\n",
    "        #print(self.x_i)\n",
    "        #print(\"##### f_i #####\")\n",
    "        #print(self.f_i)\n",
    "        #print(\"##### v_i #####\")\n",
    "        #print(self.v_i)\n",
    "        return\n",
    "\n",
    "    def get_global_best(self):\n",
    "        self.f_g_best = self.f_i.max()\n",
    "        if self.f_g_best > self.f_g_best_alltime:\n",
    "            self.g_best = self.x_i[self.f_g_best == self.f_i].squeeze(axis=0)\n",
    "            self.g_best_alltime = self.g_best.copy()\n",
    "        else:\n",
    "            self.f_g_best = self.f_g_best_alltime\n",
    "            self.g_best = self.f_g_best_alltime\n",
    "\n",
    "        #print(\"##### f_g_best #####\")\n",
    "        #print(self.f_g_best)\n",
    "        #print(\"##### f_g_best #####\")\n",
    "        #print(self.g_best)\n",
    "\n",
    "\n",
    "        return\n",
    "    \n",
    "    def neighbors_matrix(self, arr, n_neighbors):\n",
    "        n = len(arr)\n",
    "        if n < 3:\n",
    "            raise ValueError(f\"Array length must be at least {n}\")\n",
    "        arr_circular = np.concatenate((arr[n:], arr, arr[:n_neighbors]))\n",
    "        shape = (n, n_neighbors)\n",
    "        strides = arr_circular.strides * 2\n",
    "        return np.lib.stride_tricks.as_strided(arr_circular, shape=shape, strides=strides)\n",
    "\n",
    "    def bottom_n_indexes(self, matrix, n):\n",
    "        # Get the indices of the n largest elements in each row of the matrix\n",
    "        largest_n_indices = np.argsort(matrix, axis=1)[:, :n]\n",
    "        \n",
    "        # Return the indices in descending order (i.e., the largest indices first)\n",
    "        return np.flip(largest_n_indices, axis=1)\n",
    "\n",
    "    \n",
    "    def get_local_best(self):\n",
    "        n_matrix = self.neighbors_matrix(self.f_i, self.n_best)\n",
    "        self.f_l_best = n_matrix.max(axis=1)\n",
    "        self.l_best_indices = np.where(self.f_i[:,None] == self.f_l_best[None,:])[0]\n",
    "        self.l_best = self.x_i[self.l_best_indices]\n",
    "        #print(\"##### f_l_best #####\")\n",
    "        #print(self.f_l_best)\n",
    "        #print(\"##### l_best #####\")\n",
    "        #print(self.l_best)        \n",
    "        return\n",
    "    \n",
    "    def get_local_best_space(self):\n",
    "        diffs = self.x_i[:, np.newaxis, :] - self.x_i[np.newaxis, :, :]\n",
    "        squared_diffs = np.square(diffs)\n",
    "        squared_distances = np.sum(squared_diffs, axis=-1)\n",
    "        distances = np.sqrt(squared_distances)\n",
    "\n",
    "        # Lowest indices are in the right side of the matrix. The last row is composed of a distance of 0 so we must discard it.\n",
    "        bottom_n_indices = self.bottom_n_indexes(distances, self.n_best + 1)\n",
    "        self.l_best_indices = bottom_n_indices[:,self.n_best - 1]\n",
    "        self.l_best = self.x_i[self.l_best_indices]\n",
    "\n",
    "    def get_local_best_ring(self):\n",
    "        arr = self.f_i\n",
    "        n = len(arr)\n",
    "        arr_circular = np.concatenate((arr[n - 1:], arr, arr[:1]))\n",
    "        #print(\"##### arr #####\")\n",
    "        #print(self.f_i)\n",
    "\n",
    "        #print(\"##### arr_circular #####\")\n",
    "        #print(arr_circular)\n",
    "        n_matrix = np.vstack((arr_circular[:-2], arr_circular[1:-1], arr_circular[2:])).T\n",
    "        self.f_l_best = n_matrix.max(axis=1)\n",
    "        self.l_best_indices = np.where(self.f_i[None,:] == self.f_l_best[:,None])[1]\n",
    "\n",
    "        #self.l_best_indices = np.where(self.f_i[:,None] == self.f_l_best[None,:][[0]])[0]\n",
    "    \n",
    "        self.l_best = self.x_i[self.l_best_indices]\n",
    "        mask = self.f_l_best_alltime < self.f_l_best\n",
    "\n",
    "        self.f_l_best_alltime[mask] = self.f_l_best[mask]\n",
    "        self.l_best_alltime[mask,:] = self.l_best[mask,:]\n",
    "\n",
    "        #self.f_l_best = self.f_l_best_alltime.copy()\n",
    "        #self.l_best = self.l_best_alltime.copy()\n",
    "\n",
    "        #print(self.l_best)\n",
    "        #print(\"##### n_matrix #####\")\n",
    "        #print(n_matrix)\n",
    "        #print(\"##### f_l_best #####\")\n",
    "        #print(self.f_l_best)\n",
    "        #print(\"##### l_best_indices #####\")\n",
    "        #print(self.l_best_indices)\n",
    "        #print(\"##### l_best #####\")\n",
    "        #print(self.l_best)\n",
    "\n",
    "        #print(self.f_i.ravel(), self.f_l_best.ravel)\n",
    "\n",
    "\n",
    "        \n",
    "    \n",
    "    def update_speed(self):\n",
    "        self.rand_factor = np.random.rand(2)\n",
    "        self.v_i_1 = self.speed_factor * self.v_i + \\\n",
    "            self.rand_factor[0] * self.global_factor * (self.g_best - self.x_i) +\\\n",
    "            self.rand_factor[1] * self.local_factor * (self.l_best - self.x_i)\n",
    "        self.v_i_1[self.v_i_1 > self.v_max] = self.v_max\n",
    "        self.v_i_1[self.v_i_1 < -self.v_max] = self.v_max\n",
    "\n",
    "        #print(self.l_best)\n",
    "        #print(\"##### self.g_best - self.x_i #####\")\n",
    "        #print(self.g_best - self.x_i)\n",
    "        #print(\"self.l_best - self.x_i\")\n",
    "        #print(self.l_best - self.x_i)       \n",
    " \n",
    "\n",
    "        return\n",
    "    \n",
    "    def update_position(self):\n",
    "        self.x_i = self.x_i + self.v_i_1\n",
    "        self.v_i = self.v_i_1.copy()\n",
    "        return\n",
    "    \n",
    "    def callback(self):\n",
    "        max_val = np.max(self.f_g_best)\n",
    "        mean_val = np.mean(self.f_i)\n",
    "        self.best_ind_list[self.curr_epoch] = max_val\n",
    "        self.avg_ind_list[self.curr_epoch] = mean_val\n",
    "        if (self.curr_epoch % self.eval_every == 0) and self.verbose != 0 :\n",
    "            print(f\"Epoch {self.curr_epoch}: Best: {max_val}, Average: {mean_val}\")\n",
    "    \n",
    "    def fit(self):\n",
    "        start_time = time.time()\n",
    "        self.init_pop()\n",
    "        for epoch in tqdm(range(self.num_epochs)):\n",
    "            self.curr_epoch = epoch\n",
    "            self.get_global_best()\n",
    "            #self.get_local_best()\n",
    "            #self.get_local_best_space()\n",
    "            self.get_local_best_ring()\n",
    "            self.update_speed()\n",
    "            self.update_position()\n",
    "            self.callback()\n",
    "        print(\"--- %s seconds ---\" % (time.time() - start_time))\n",
    "        return self.x_i\n",
    "\n",
    "    def plot(self):\n",
    "        plt.plot(self.best_ind_list, label=\"Best\")\n",
    "        plt.plot(self.avg_ind_list, label=\"Average\")\n",
    "        plt.xlabel(\"Number of Epochs\")\n",
    "        plt.ylabel(\"Fitness Value\")\n",
    "        plt.legend()\n",
    "        plt.show()\n",
    "\n",
    "\n",
    "pso_alg = PSO( \n",
    "                num_epochs=1000,\n",
    "                pop_size=100,\n",
    "                chrom_length=2,\n",
    "                n_best=2,\n",
    "                global_factor = 1,\n",
    "                local_factor = 1,\n",
    "                speed_factor = 0.8,\n",
    "                v_max=0.2,\n",
    "                value_ranges=[(-10,10), (-10,10)],\n",
    "                fitness_func=schaffer_function\n",
    "\n",
    "            )\n",
    "best_solutions = pso_alg.fit()\n",
    "pso_alg.plot()"
   ]
  },
  {
   "cell_type": "code",
   "execution_count": 6,
   "metadata": {},
   "outputs": [
    {
     "data": {
      "text/plain": [
       "Text(0.5, 0, 'z')"
      ]
     },
     "execution_count": 6,
     "metadata": {},
     "output_type": "execute_result"
    },
    {
     "data": {
      "image/png": "[encoded data removed]",
      "text/plain": [
       "<Figure size 432x288 with 1 Axes>"
      ]
     },
     "metadata": {
      "needs_background": "light"
     },
     "output_type": "display_data"
    }
   ],
   "source": [
    "def schaffer_function_plot(x,y):\n",
    "    g = 0.5 + (np.power((np.sin( np.sqrt( np.power(x, 2) + np.power(y, 2)))), 2) - 0.5)/ \\\n",
    "        (1 + 0.001 * (np.power(x, 2) + np.power(y, 2)))\n",
    "    return g\n",
    "\n",
    "x_data = best_solutions[:, 0]\n",
    "y_data = best_solutions[:, 1]\n",
    "z_data = schaffer_function_plot(x_data, y_data)\n",
    "\n",
    "x = np.linspace(-10, 10, 50)\n",
    "y = np.linspace(-10, 10, 50)\n",
    "\n",
    "X, Y = np.meshgrid(x, y)\n",
    "Z = schaffer_function_plot(X, Y)\n",
    "fig = plt.figure()\n",
    "ax = plt.axes(projection='3d')\n",
    "ax.contour3D(X, Y, Z, 50, cmap='jet', alpha=0.2)\n",
    "ax.scatter3D(x_data, y_data, z_data, c=z_data, cmap='winter', alpha=1)\n",
    "#ax.set_xlim3d(-10,10)\n",
    "#ax.set_ylim3d(-10,10)\n",
    "\n",
    "ax.set_xlabel('x')\n",
    "ax.set_ylabel('y')\n",
    "ax.set_zlabel('z')\n"
   ]
  },
  {
   "cell_type": "code",
   "execution_count": 7,
   "metadata": {},
   "outputs": [
    {
     "data": {
      "text/plain": [
       "(array([0, 1, 2, 3, 4, 5]), array([5, 4, 3, 2, 0, 1]))"
      ]
     },
     "execution_count": 7,
     "metadata": {},
     "output_type": "execute_result"
    }
   ],
   "source": [
    "x = np.array([1,2,3,4,5,6])\n",
    "y = np.array([6,5,4,3,1,2])\n",
    "\n",
    "np.where(x[None,:] == y[:,None])"
   ]
  },
  {
   "cell_type": "code",
   "execution_count": 8,
   "metadata": {},
   "outputs": [
    {
     "data": {
      "text/plain": [
       "array([0, 1, 2, 3, 4, 5])"
      ]
     },
     "execution_count": 8,
     "metadata": {},
     "output_type": "execute_result"
    }
   ],
   "source": [
    "B = np.array([1,2,3,4,5,6])\n",
    "A = np.array([6,5,4,3,2,1])\n",
    "\n",
    "# Get the sorted indices of A and B\n",
    "sort_indices_A = np.argsort(A)\n",
    "sort_indices_B = np.argsort(B)\n",
    "\n",
    "# Create an array to hold the indices of B in relation to A\n",
    "indices = np.arange(len(A))\n",
    "\n",
    "# Broadcast the sorted indices of A and B to create boolean masks\n",
    "mask_A = sort_indices_A[:, np.newaxis] == indices[np.newaxis, :]\n",
    "mask_B = sort_indices_B[:, np.newaxis] == indices[np.newaxis, :]\n",
    "\n",
    "# Use the masks to find the positions of A in B and vice versa\n",
    "pos_A_in_B = np.argmax(mask_B @ mask_A.T, axis=1)\n",
    "pos_B_in_A = np.argmax(mask_A @ mask_B.T, axis=1)\n",
    "\n",
    "# Use the positions to get the indices of B in relation to A\n",
    "indices = pos_B_in_A[pos_A_in_B]\n",
    "indices"
   ]
  }
 ],
 "metadata": {
  "kernelspec": {
   "display_name": "deeplearning",
   "language": "python",
   "name": "python3"
  },
  "language_info": {
   "codemirror_mode": {
    "name": "ipython",
    "version": 3
   },
   "file_extension": ".py",
   "mimetype": "text/x-python",
   "name": "python",
   "nbconvert_exporter": "python",
   "pygments_lexer": "ipython3",
   "version": "3.9.13"
  },
  "orig_nbformat": 4
 },
 "nbformat": 4,
 "nbformat_minor": 2
}
